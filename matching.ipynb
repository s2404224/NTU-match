{
 "cells": [
  {
   "cell_type": "markdown",
   "metadata": {},
   "source": [
    "### 讀取資料"
   ]
  },
  {
   "cell_type": "code",
   "execution_count": 107,
   "metadata": {},
   "outputs": [],
   "source": [
    "import pandas as pd\n",
    "import numpy as np\n",
    "import seaborn as sns\n",
    "import matplotlib.pyplot as plt\n",
    "\n",
    "df = pd.read_csv('original_data.csv')"
   ]
  },
  {
   "cell_type": "markdown",
   "metadata": {},
   "source": [
    "## 1. 資料前處理"
   ]
  },
  {
   "cell_type": "code",
   "execution_count": 108,
   "metadata": {},
   "outputs": [
    {
     "name": "stdout",
     "output_type": "stream",
     "text": [
      "number of data : 2145\n"
     ]
    },
    {
     "data": {
      "text/html": [
       "<div>\n",
       "<style scoped>\n",
       "    .dataframe tbody tr th:only-of-type {\n",
       "        vertical-align: middle;\n",
       "    }\n",
       "\n",
       "    .dataframe tbody tr th {\n",
       "        vertical-align: top;\n",
       "    }\n",
       "\n",
       "    .dataframe thead th {\n",
       "        text-align: right;\n",
       "    }\n",
       "</style>\n",
       "<table border=\"1\" class=\"dataframe\">\n",
       "  <thead>\n",
       "    <tr style=\"text-align: right;\">\n",
       "      <th></th>\n",
       "      <th>time</th>\n",
       "      <th>name</th>\n",
       "      <th>gender</th>\n",
       "      <th>student_id</th>\n",
       "      <th>email</th>\n",
       "      <th>hobbies</th>\n",
       "      <th>Q1</th>\n",
       "      <th>Q2</th>\n",
       "      <th>Q3</th>\n",
       "      <th>Q4</th>\n",
       "      <th>Q5</th>\n",
       "      <th>Q6</th>\n",
       "      <th>Q7</th>\n",
       "      <th>Q8</th>\n",
       "      <th>Q9</th>\n",
       "      <th>contact</th>\n",
       "      <th>comment</th>\n",
       "    </tr>\n",
       "  </thead>\n",
       "  <tbody>\n",
       "    <tr>\n",
       "      <th>2</th>\n",
       "      <td>2020/10/22 下午 6:00:34</td>\n",
       "      <td>張語樵</td>\n",
       "      <td>男</td>\n",
       "      <td>b05703036</td>\n",
       "      <td>b05703036@ntu.edu.tw</td>\n",
       "      <td>電影 看劇 旅行</td>\n",
       "      <td>酒吧/夜店</td>\n",
       "      <td>實用性禮物（化妝品、衣服、皮夾...）</td>\n",
       "      <td>臉</td>\n",
       "      <td>家裡看Netflix</td>\n",
       "      <td>摩斯</td>\n",
       "      <td>貓貓</td>\n",
       "      <td>Ｓ</td>\n",
       "      <td>亞洲</td>\n",
       "      <td>新北耶誕城</td>\n",
       "      <td>chao_2404224</td>\n",
       "      <td>NaN</td>\n",
       "    </tr>\n",
       "  </tbody>\n",
       "</table>\n",
       "</div>"
      ],
      "text/plain": [
       "                    time name gender student_id                 email  \\\n",
       "2  2020/10/22 下午 6:00:34  張語樵      男  b05703036  b05703036@ntu.edu.tw   \n",
       "\n",
       "    hobbies     Q1                   Q2 Q3          Q4  Q5  Q6 Q7  Q8     Q9  \\\n",
       "2  電影 看劇 旅行  酒吧/夜店  實用性禮物（化妝品、衣服、皮夾...）  臉  家裡看Netflix  摩斯  貓貓  Ｓ  亞洲  新北耶誕城   \n",
       "\n",
       "        contact comment  \n",
       "2  chao_2404224     NaN  "
      ]
     },
     "execution_count": 108,
     "metadata": {},
     "output_type": "execute_result"
    }
   ],
   "source": [
    "# rename columns\n",
    "old_col = list(df.columns)\n",
    "new_col = ['time','name','gender','student_id','email','hobbies','Q1','Q2','Q3','Q4','Q5','Q6','Q7','Q8','Q9','contact','comment','homo']\n",
    "df.columns = new_col\n",
    "df = df.drop('homo',axis=1)\n",
    "print('number of data :',len(df))\n",
    "\n",
    "# duplicated data \n",
    "df = df.drop_duplicates(subset = 'student_id', keep = 'last')\n",
    "\n",
    "# reset index\n",
    "df.reset_index(drop =True, inplace=True)\n",
    "               \n",
    "df[2:3]               "
   ]
  },
  {
   "cell_type": "markdown",
   "metadata": {},
   "source": [
    "#### 處理興趣欄位\n",
    "由於當初設計表單是並沒有嚴格規定數入資料的形式，因此興趣欄位的格式不統一，需做處理並去除不必要的動詞"
   ]
  },
  {
   "cell_type": "code",
   "execution_count": 109,
   "metadata": {},
   "outputs": [],
   "source": [
    "# import models\n",
    "import jieba\n",
    "import jieba.posseg as pseg\n",
    "jieba.set_dictionary('dict.txt')"
   ]
  },
  {
   "cell_type": "code",
   "execution_count": 110,
   "metadata": {},
   "outputs": [
    {
     "name": "stdout",
     "output_type": "stream",
     "text": [
      "Example hobby input : 電影 看劇 旅行\n"
     ]
    },
    {
     "data": {
      "image/png": "[encoded data removed]",
      "text/plain": [
       "<Figure size 432x288 with 1 Axes>"
      ]
     },
     "metadata": {
      "needs_background": "light"
     },
     "output_type": "display_data"
    }
   ],
   "source": [
    "print('Example hobby input :',df.loc[2,'hobbies'])\n",
    "\n",
    "plt.hist(df['hobbies'].apply(len),bins=100)\n",
    "plt.xlim(right=30)\n",
    "plt.title('length of hobbies')\n",
    "plt.show()"
   ]
  },
  {
   "cell_type": "code",
   "execution_count": 111,
   "metadata": {},
   "outputs": [
    {
     "name": "stderr",
     "output_type": "stream",
     "text": [
      "Building prefix dict from /Users/chao/Desktop/matching code拷貝/dict.txt ...\n",
      "Loading model from cache /var/folders/6k/k25tpd2n1b9342z9z0ds5w_r0000gn/T/jieba.uce2b297e721a4a48f11a31a2381d0868.cache\n",
      "Loading model cost 0.928 seconds.\n",
      "Prefix dict has been built successfully.\n"
     ]
    },
    {
     "data": {
      "text/plain": [
       "0     影集睡覺撈\n",
       "1    看展露營桌遊\n",
       "2    電影看劇旅行\n",
       "3    電影攝影唱歌\n",
       "4    電影花錢頭髮\n",
       "Name: hobbies, dtype: object"
      ]
     },
     "execution_count": 111,
     "metadata": {},
     "output_type": "execute_result"
    }
   ],
   "source": [
    "# count hobbies\n",
    "hobby_list = []\n",
    "for words in df['hobbies'].values:\n",
    "    words_split = words.split()\n",
    "    if len(words_split) == 1 or len(words_split) == 0: # 假如沒有被split掉 則全部保留 ex : '看展露營旅遊' -> '看展露營旅遊'\n",
    "        hobby_list.append(words)\n",
    "    else:\n",
    "        for strs in words_split:\n",
    "            hobby_list.append(keep_last(strs))\n",
    "\n",
    "\n",
    "\n",
    "def add_space(strs):\n",
    "    stop_word = '/、，；,'\n",
    "    for w in stop_word:\n",
    "        if w in strs:\n",
    "            strs = strs.replace(w,' ')\n",
    "    return strs\n",
    "\n",
    "# convert all other symbols to space\n",
    "df['hobbies'] = df['hobbies'].apply(add_space)\n",
    "\n",
    "\n",
    "\n",
    "# keep the last element ex : '我想看電影' -> '電影' / '電影' -> '電影'\n",
    "def keep_last(strs):\n",
    "    words = list(pseg.cut(strs))\n",
    "    word = words[-1].word\n",
    "    return word\n",
    "\n",
    "# transfer to final output ex : '看展 打電腦 去旅遊' -> '看展電腦旅遊'\n",
    "def hobby_output(words):\n",
    "    words_split = words.split()  \n",
    "    # '看電影     ' -> ['看電影'] , ['看、 電影 '] -> ['看、','電影']\n",
    "    # 自動trim的功能 比.split(' ')更有效 \n",
    "    \n",
    "    if len(words_split) == 1 or len(words_split) == 0: # 假如沒有被split掉 則全部保留 ex : '看展露營旅遊' -> '看展露營旅遊'\n",
    "        return words\n",
    "    else:\n",
    "        final_strs = ''\n",
    "        for strs in words_split:\n",
    "            final_strs += keep_last(strs)\n",
    "        return final_strs\n",
    "# transfer the hobbies\n",
    "df['hobbies'] = df['hobbies'].apply(hobby_output)\n",
    "df['hobbies'].head() "
   ]
  },
  {
   "cell_type": "markdown",
   "metadata": {},
   "source": [
    "## 2.建立矩陣、計算相似度\n",
    "1. 問題相似度 - cosine similarity\n",
    "2. 興趣相似度 - use the similarity difflib.SequenceMatcher -> (s1 and s2) / mean(len(l1),len(l2))\n",
    "3. 性格配對 - S對M , M對S\n",
    "4. 男女矩陣 - 男對女 , 女對男"
   ]
  },
  {
   "cell_type": "markdown",
   "metadata": {},
   "source": [
    "### 問題相似度\n",
    "- 使用餘弦相似度"
   ]
  },
  {
   "cell_type": "code",
   "execution_count": 115,
   "metadata": {},
   "outputs": [
    {
     "data": {
      "text/html": [
       "<div>\n",
       "<style scoped>\n",
       "    .dataframe tbody tr th:only-of-type {\n",
       "        vertical-align: middle;\n",
       "    }\n",
       "\n",
       "    .dataframe tbody tr th {\n",
       "        vertical-align: top;\n",
       "    }\n",
       "\n",
       "    .dataframe thead th {\n",
       "        text-align: right;\n",
       "    }\n",
       "</style>\n",
       "<table border=\"1\" class=\"dataframe\">\n",
       "  <thead>\n",
       "    <tr style=\"text-align: right;\">\n",
       "      <th></th>\n",
       "      <th>Q1_看劇</th>\n",
       "      <th>Q1_運動</th>\n",
       "      <th>Q1_酒吧/夜店</th>\n",
       "      <th>Q2_實用性禮物（化妝品、衣服、皮夾...）</th>\n",
       "      <th>Q2_浪漫小廢物 (手作卡片、禮物、娃娃)</th>\n",
       "      <th>Q2_現金</th>\n",
       "      <th>Q3_臉</th>\n",
       "      <th>Q3_身材</th>\n",
       "      <th>Q3_身高</th>\n",
       "      <th>Q4_爬山</th>\n",
       "      <th>Q4_看電影</th>\n",
       "      <th>Q4_逛街逛夜市</th>\n",
       "      <th>Q5_漢堡王</th>\n",
       "      <th>Q5_肯德基</th>\n",
       "      <th>Q5_麥當勞</th>\n",
       "      <th>Q6_貓貓</th>\n",
       "      <th>Q8_歐美</th>\n",
       "    </tr>\n",
       "  </thead>\n",
       "  <tbody>\n",
       "    <tr>\n",
       "      <th>0</th>\n",
       "      <td>1</td>\n",
       "      <td>0</td>\n",
       "      <td>0</td>\n",
       "      <td>0</td>\n",
       "      <td>0</td>\n",
       "      <td>1</td>\n",
       "      <td>0</td>\n",
       "      <td>0</td>\n",
       "      <td>1</td>\n",
       "      <td>0</td>\n",
       "      <td>0</td>\n",
       "      <td>1</td>\n",
       "      <td>0</td>\n",
       "      <td>0</td>\n",
       "      <td>0</td>\n",
       "      <td>1</td>\n",
       "      <td>1</td>\n",
       "    </tr>\n",
       "    <tr>\n",
       "      <th>1</th>\n",
       "      <td>0</td>\n",
       "      <td>0</td>\n",
       "      <td>0</td>\n",
       "      <td>1</td>\n",
       "      <td>0</td>\n",
       "      <td>0</td>\n",
       "      <td>0</td>\n",
       "      <td>1</td>\n",
       "      <td>0</td>\n",
       "      <td>0</td>\n",
       "      <td>0</td>\n",
       "      <td>1</td>\n",
       "      <td>0</td>\n",
       "      <td>0</td>\n",
       "      <td>0</td>\n",
       "      <td>0</td>\n",
       "      <td>0</td>\n",
       "    </tr>\n",
       "    <tr>\n",
       "      <th>2</th>\n",
       "      <td>0</td>\n",
       "      <td>0</td>\n",
       "      <td>1</td>\n",
       "      <td>1</td>\n",
       "      <td>0</td>\n",
       "      <td>0</td>\n",
       "      <td>1</td>\n",
       "      <td>0</td>\n",
       "      <td>0</td>\n",
       "      <td>0</td>\n",
       "      <td>0</td>\n",
       "      <td>0</td>\n",
       "      <td>0</td>\n",
       "      <td>0</td>\n",
       "      <td>0</td>\n",
       "      <td>1</td>\n",
       "      <td>0</td>\n",
       "    </tr>\n",
       "  </tbody>\n",
       "</table>\n",
       "</div>"
      ],
      "text/plain": [
       "   Q1_看劇  Q1_運動  Q1_酒吧/夜店  Q2_實用性禮物（化妝品、衣服、皮夾...）  Q2_浪漫小廢物 (手作卡片、禮物、娃娃)  \\\n",
       "0      1      0         0                       0                      0   \n",
       "1      0      0         0                       1                      0   \n",
       "2      0      0         1                       1                      0   \n",
       "\n",
       "   Q2_現金  Q3_臉  Q3_身材  Q3_身高  Q4_爬山  Q4_看電影  Q4_逛街逛夜市  Q5_漢堡王  Q5_肯德基  Q5_麥當勞  \\\n",
       "0      1     0      0      1      0       0         1       0       0       0   \n",
       "1      0     0      1      0      0       0         1       0       0       0   \n",
       "2      0     1      0      0      0       0         0       0       0       0   \n",
       "\n",
       "   Q6_貓貓  Q8_歐美  \n",
       "0      1      1  \n",
       "1      0      0  \n",
       "2      1      0  "
      ]
     },
     "execution_count": 115,
     "metadata": {},
     "output_type": "execute_result"
    }
   ],
   "source": [
    "# ### Get dummies for catagorical data\n",
    "\n",
    "# cat_col = ['Q1','Q2','Q3','Q4','Q5','Q6','Q8']\n",
    "\n",
    "# def convert2_dummies(df,col_name):\n",
    "#     df_dummy = pd.get_dummies(df[col_name],prefix=col_name,drop_first=True)\n",
    "#     df = pd.concat([df,df_dummy],axis = 1)\n",
    "#     df.drop(col_name, axis = 1, inplace = True)\n",
    "#     return df\n",
    "\n",
    "# for col_name in cat_col:\n",
    "#     df = convert2_dummies(df,col_name)\n",
    "    \n",
    "# create question matrix \n",
    "df_question = df[df.columns[10:]]\n",
    "df_question.head(3)"
   ]
  },
  {
   "cell_type": "code",
   "execution_count": 120,
   "metadata": {},
   "outputs": [
    {
     "name": "stdout",
     "output_type": "stream",
     "text": [
      "shape of matrix (2109, 2109)\n"
     ]
    },
    {
     "data": {
      "text/plain": [
       "array([[1.        , 0.23570226, 0.20412415, ..., 0.        , 0.33333333,\n",
       "        0.36514837],\n",
       "       [0.23570226, 1.        , 0.28867513, ..., 0.        , 0.        ,\n",
       "        0.        ],\n",
       "       [0.20412415, 0.28867513, 1.        , ..., 0.4472136 , 0.40824829,\n",
       "        0.4472136 ],\n",
       "       ...,\n",
       "       [0.        , 0.        , 0.4472136 , ..., 1.        , 0.54772256,\n",
       "        0.4       ],\n",
       "       [0.33333333, 0.        , 0.40824829, ..., 0.54772256, 1.        ,\n",
       "        0.73029674],\n",
       "       [0.36514837, 0.        , 0.4472136 , ..., 0.4       , 0.73029674,\n",
       "        1.        ]])"
      ]
     },
     "execution_count": 120,
     "metadata": {},
     "output_type": "execute_result"
    }
   ],
   "source": [
    "from sklearn.metrics.pairwise import cosine_similarity\n",
    "\n",
    "cosine_matrix = cosine_similarity(df_question)\n",
    "print('shape of matrix',cosine_matrix.shape)\n",
    "cosine_matrix"
   ]
  },
  {
   "cell_type": "markdown",
   "metadata": {},
   "source": [
    "### 興趣矩陣\n",
    "- 使用 similarity difflib.SequenceMatcher -> (s1 and s2) / mean(len(l1),len(l2))\n",
    "- 若字數相似度 < 0.3，則視其相似度為0"
   ]
  },
  {
   "cell_type": "code",
   "execution_count": 122,
   "metadata": {},
   "outputs": [],
   "source": [
    "import difflib"
   ]
  },
  {
   "cell_type": "code",
   "execution_count": 124,
   "metadata": {},
   "outputs": [],
   "source": [
    "l = len(df)\n",
    "\n",
    "# create n,n matrix\n",
    "hobbies_matrix = np.zeros((l,l))\n",
    "\n",
    "# create n,1 array\n",
    "hobbies_arr = np.array(df['hobbies'])\n",
    "\n",
    "# caculate similarity\n",
    "def hobby_similarity(s1,s2):\n",
    "    return difflib.SequenceMatcher(None, s1, s2).quick_ratio()\n",
    "\n",
    "# caculate similarity to matrix\n",
    "hobbies_arr = np.array(df['hobbies'])\n",
    "l = len(hobbies_arr)\n",
    "\n",
    "# loop all values\n",
    "for i in range(l):\n",
    "    for j in range(l):\n",
    "        hobbies_matrix[i,j] = hobby_similarity(hobbies_arr[i],hobbies_arr[j])    \n",
    "        \n",
    "# set threshold\n",
    "def hobby_shreshold(x):\n",
    "    if x < 0.3 :\n",
    "        return 0\n",
    "    else:\n",
    "        return x\n",
    "vecfunc = np.vectorize(hobby_shreshold)\n",
    "# func to all values\n",
    "hobbies_matrix_func = vecfunc(hobbies_matrix)"
   ]
  },
  {
   "cell_type": "code",
   "execution_count": 125,
   "metadata": {},
   "outputs": [
    {
     "data": {
      "text/plain": [
       "array([[1.        , 0.        , 0.        , ..., 0.        , 0.        ,\n",
       "        0.        ],\n",
       "       [0.        , 1.        , 0.        , ..., 0.        , 0.        ,\n",
       "        0.        ],\n",
       "       [0.        , 0.        , 1.        , ..., 0.        , 0.30769231,\n",
       "        0.33333333],\n",
       "       ...,\n",
       "       [0.        , 0.        , 0.        , ..., 1.        , 0.        ,\n",
       "        0.        ],\n",
       "       [0.        , 0.        , 0.30769231, ..., 0.        , 1.        ,\n",
       "        0.        ],\n",
       "       [0.        , 0.        , 0.33333333, ..., 0.        , 0.        ,\n",
       "        1.        ]])"
      ]
     },
     "execution_count": 125,
     "metadata": {},
     "output_type": "execute_result"
    }
   ],
   "source": [
    "hobbies_matrix_func"
   ]
  },
  {
   "cell_type": "markdown",
   "metadata": {},
   "source": [
    "### 性格矩陣\n",
    "- 若S對M、M對S則給予值 1"
   ]
  },
  {
   "cell_type": "code",
   "execution_count": 126,
   "metadata": {},
   "outputs": [
    {
     "data": {
      "text/plain": [
       "array([[0., 1., 1., ..., 0., 1., 1.],\n",
       "       [1., 0., 0., ..., 1., 0., 0.],\n",
       "       [1., 0., 0., ..., 1., 0., 0.],\n",
       "       ...,\n",
       "       [0., 1., 1., ..., 0., 1., 1.],\n",
       "       [1., 0., 0., ..., 1., 0., 0.],\n",
       "       [1., 0., 0., ..., 1., 0., 0.]])"
      ]
     },
     "execution_count": 126,
     "metadata": {},
     "output_type": "execute_result"
    }
   ],
   "source": [
    "l = len(df)\n",
    "\n",
    "# create n,n matrix\n",
    "SM_matrix = np.zeros((l,l))\n",
    "\n",
    "# create n,1 array\n",
    "SM_arr = np.array(df['Q7'])\n",
    "\n",
    "def SM_match(t1,t2):\n",
    "    if t1 != t2 :\n",
    "        return 1\n",
    "    else:\n",
    "        return 0\n",
    "    \n",
    "for i in range(l):\n",
    "    for j in range(l):\n",
    "        SM_matrix[i][j] = SM_match(SM_arr[i],SM_arr[j])\n",
    "\n",
    "SM_matrix"
   ]
  },
  {
   "cell_type": "markdown",
   "metadata": {},
   "source": [
    "### 性別矩陣\n",
    "\n",
    "- 若男對女、女對男則給予值 1 "
   ]
  },
  {
   "cell_type": "code",
   "execution_count": 127,
   "metadata": {},
   "outputs": [],
   "source": [
    "l = len(df)\n",
    "\n",
    "# create n,n matrix\n",
    "gender_matrix = np.zeros((l,l))\n",
    "\n",
    "# create n,1 array\n",
    "gender_arr = np.array(df['gender'])\n",
    "\n",
    "# match rule\n",
    "def gender_match(g1,g2):\n",
    "    if g1 != g2 :\n",
    "        return 1\n",
    "    else:\n",
    "        return 0\n",
    "    \n",
    "# create the matrix \n",
    "for i in range(l):\n",
    "    for j in range(l):\n",
    "        gender_matrix[i][j] = gender_match(gender_arr[i],gender_arr[j])"
   ]
  },
  {
   "cell_type": "markdown",
   "metadata": {},
   "source": [
    "### 矩陣加總 算出配對相似度"
   ]
  },
  {
   "cell_type": "code",
   "execution_count": 128,
   "metadata": {},
   "outputs": [],
   "source": [
    "# 給予矩陣權重\n",
    "w1 = 1    # cosine\n",
    "w2 = 0.5    # hobbies\n",
    "w3 = 0.2    # SM\n",
    "w4 = 10    # gender, 1 * w4 > 1.7 so different gender matches after sorting \n",
    "\n",
    "final_matrix = w1 * cosine_matrix + w2 * hobbies_matrix_func + w3 * SM_matrix + w4 * gender_matrix"
   ]
  },
  {
   "cell_type": "code",
   "execution_count": 129,
   "metadata": {},
   "outputs": [
    {
     "data": {
      "text/plain": [
       "11.58095238095238"
      ]
     },
     "execution_count": 129,
     "metadata": {},
     "output_type": "execute_result"
    }
   ],
   "source": [
    "# the max point of pair\n",
    "max(np.amax(final_matrix,axis=1,))"
   ]
  },
  {
   "cell_type": "markdown",
   "metadata": {},
   "source": [
    "### 取出相似度與自己最高的三位index"
   ]
  },
  {
   "cell_type": "code",
   "execution_count": 134,
   "metadata": {},
   "outputs": [
    {
     "data": {
      "text/plain": [
       "time                      2020/10/22 下午 6:00:34\n",
       "name                                        張語樵\n",
       "gender                                        男\n",
       "student_id                            b05703036\n",
       "email                      b05703036@ntu.edu.tw\n",
       "hobbies                                  電影看劇旅行\n",
       "Q7                                            Ｓ\n",
       "Q9                                        新北耶誕城\n",
       "contact                            chao_2404224\n",
       "comment                                     NaN\n",
       "Q1_看劇                                         0\n",
       "Q1_運動                                         0\n",
       "Q1_酒吧/夜店                                      1\n",
       "Q2_實用性禮物（化妝品、衣服、皮夾...）                        1\n",
       "Q2_浪漫小廢物 (手作卡片、禮物、娃娃)                         0\n",
       "Q2_現金                                         0\n",
       "Q3_臉                                          1\n",
       "Q3_身材                                         0\n",
       "Q3_身高                                         0\n",
       "Q4_爬山                                         0\n",
       "Q4_看電影                                        0\n",
       "Q4_逛街逛夜市                                      0\n",
       "Q5_漢堡王                                        0\n",
       "Q5_肯德基                                        0\n",
       "Q5_麥當勞                                        0\n",
       "Q6_貓貓                                         1\n",
       "Q8_歐美                                         0\n",
       "1                                           879\n",
       "2                                           126\n",
       "3                                           688\n",
       "Name: 2, dtype: object"
      ]
     },
     "execution_count": 134,
     "metadata": {},
     "output_type": "execute_result"
    }
   ],
   "source": [
    "# # sort the matrix by index by row\n",
    "# final_matrix_sorted = np.argsort(final_matrix,axis=1)[:,::-1]\n",
    "\n",
    "# # create matrix storing the highest n match index\n",
    "# n = 3\n",
    "# topn_matrix = final_matrix_sorted[:,:3]\n",
    "\n",
    "# # change to dataframe\n",
    "# df_topn = pd.DataFrame(topn_matrix,columns=[str(i+1) for i in range(n)])\n",
    "\n",
    "# # concat the dataframe\n",
    "# df_final = pd.concat([df,df_topn],axis=1)\n",
    "\n",
    "df_final.iloc[2]"
   ]
  },
  {
   "cell_type": "markdown",
   "metadata": {},
   "source": [
    "## 3.建立配對DataFrame\n",
    "- 一位女性會配到三位男性  (經過檢測後，最適的配對方法)\n",
    "- 一位男性會配對0至多位女性"
   ]
  },
  {
   "cell_type": "code",
   "execution_count": 135,
   "metadata": {},
   "outputs": [],
   "source": [
    "from sklearn.metrics import jaccard_score"
   ]
  },
  {
   "cell_type": "code",
   "execution_count": 150,
   "metadata": {},
   "outputs": [],
   "source": [
    "# check functions\n",
    "\n",
    "# insert index, return gender\n",
    "def check_gender(idx):\n",
    "    idx_list = df_final.iloc[idx][['1','2','3']].values\n",
    "    return df_final['gender'].iloc[idx_list]\n",
    "\n",
    "# insert student_id, return info df for all matches\n",
    "def match_info(idx):\n",
    "    match_id = df_final.iloc[idx][['1','2','3']].values\n",
    "    return df_final.iloc[match_id]\n",
    "\n",
    "# insert index, return question similarity\n",
    "q_matrix = df_question.to_numpy()\n",
    "def question_ratio(idx1,idx2):\n",
    "    return jaccard_score(q_matrix[idx1],q_matrix[idx2])\n",
    "\n",
    "# insert index, return hobby similarity\n",
    "def hobby_ratio(idx1,idx2):\n",
    "    s1 = df_final.loc[idx1,'hobbies']\n",
    "    s2 = df_final.loc[idx2,'hobbies']\n",
    "    return hobby_similarity(s1,s2)\n",
    "\n",
    "def check_similarity(a,b):\n",
    "    print('question_similariy',question_ratio(a,b))\n",
    "    print('hobby_similarity',hobby_ratio(a,b))\n",
    "\n",
    "# 算出final matrix 的相似度\n",
    "## 最大分數為 max(np.amax(final_matrix,axis=1,)) = 1.5分 因此全部同除以最大值 並取得百分比\n",
    "max_point = max(np.amax(final_matrix,axis=1,))\n",
    "def total_similarity(a,b):\n",
    "    return (final_matrix[a][b] - 10)/(max_point-10) * 100\n",
    "\n",
    "def get_index(data,col):\n",
    "    return df_final[df_final[col] == data].index.values[0]"
   ]
  },
  {
   "cell_type": "code",
   "execution_count": 151,
   "metadata": {},
   "outputs": [
    {
     "name": "stdout",
     "output_type": "stream",
     "text": [
      "男 : ['女' '女' '女']\n",
      "男 : ['女' '女' '女']\n",
      "男 : ['女' '女' '女']\n",
      "男 : ['女' '女' '女']\n",
      "男 : ['女' '女' '女']\n"
     ]
    }
   ],
   "source": [
    "# test if df match the opposite gender\n",
    "for i in range(10,15):\n",
    "    print(df_final.loc[i,'gender'],':',check_gender(i).values)"
   ]
  },
  {
   "cell_type": "markdown",
   "metadata": {},
   "source": [
    "### 建立配對字典"
   ]
  },
  {
   "cell_type": "code",
   "execution_count": 152,
   "metadata": {},
   "outputs": [
    {
     "name": "stdout",
     "output_type": "stream",
     "text": [
      "number of match 868\n",
      "mean =  2.1463133640552994\n",
      "median =  2.0\n",
      "max =  18\n"
     ]
    },
    {
     "data": {
      "image/png": "[encoded data removed]",
      "text/plain": [
       "<Figure size 432x288 with 1 Axes>"
      ]
     },
     "metadata": {
      "needs_background": "light"
     },
     "output_type": "display_data"
    }
   ],
   "source": [
    "## merge to matches\n",
    "\n",
    "cols = ['1','2','3']\n",
    "df_final['matches'] = df_final[cols].values.tolist()\n",
    "df_male = df_final[df_final['gender'] == '男']\n",
    "df_female = df_final[df_final['gender'] == '女']\n",
    "\n",
    "\n",
    "# Create dictionary of female matches\n",
    "\n",
    "female_dict = {}\n",
    "for i,x in df_female.iterrows():\n",
    "    female_dict[i] = x['matches']\n",
    "\n",
    "# Create dictionary of male matches\n",
    "\n",
    "male_dict = dict()\n",
    "\n",
    "for i, x in df_female.iterrows():\n",
    "    for idx in x['matches']:\n",
    "        if idx not in male_dict.keys():\n",
    "            lst = []\n",
    "            lst.append(i)\n",
    "            male_dict[idx] = lst\n",
    "        else:\n",
    "            lst = male_dict[idx]\n",
    "            lst.append(i)\n",
    "            male_dict[idx] = lst\n",
    "            \n",
    "def distribution_info(arr,p):\n",
    "    print('number of match',len(arr))\n",
    "    print('mean = ',np.mean(arr))\n",
    "    print('median = ',np.median(arr))\n",
    "    print('max = ', np.max(arr))\n",
    "#     print('{} percentile = {}'.format(p,np.percentile(arr,p))\n",
    "\n",
    "male_lengths = [len(lst) for lst in list(male_dict.values())]\n",
    "\n",
    "plt.boxplot(np.array(male_lengths),)\n",
    "plt.title('numbers of match by male')\n",
    "distribution_info(male_lengths,90)"
   ]
  },
  {
   "cell_type": "markdown",
   "metadata": {},
   "source": [
    "#### 前100位 男性配對數量"
   ]
  },
  {
   "cell_type": "code",
   "execution_count": 153,
   "metadata": {},
   "outputs": [
    {
     "name": "stdout",
     "output_type": "stream",
     "text": [
      "前100男性位配對數量： [18, 15, 10, 10, 10, 9, 9, 9, 8, 8, 8, 8, 8, 8, 8, 8, 8, 7, 7, 7, 7, 7, 7, 7, 7, 7, 7, 7, 6, 6, 6, 6, 6, 6, 6, 6, 6, 6, 5, 5, 5, 5, 5, 5, 5, 5, 5, 5, 5, 5, 5, 5, 5, 5, 5, 5, 5, 5, 5, 5, 5, 5, 5, 5, 5, 4, 4, 4, 4, 4, 4, 4, 4, 4, 4, 4, 4, 4, 4, 4, 4, 4, 4, 4, 4, 4, 4, 4, 4, 4, 4, 4, 4, 4, 4, 4, 4, 4, 4, 4]\n"
     ]
    }
   ],
   "source": [
    "n = 100\n",
    "print('前%d男性位配對數量：'%n,sorted(male_lengths)[::-1][:n])"
   ]
  },
  {
   "cell_type": "markdown",
   "metadata": {},
   "source": [
    "### 建立配對資料庫"
   ]
  },
  {
   "cell_type": "code",
   "execution_count": 155,
   "metadata": {},
   "outputs": [
    {
     "data": {
      "text/html": [
       "<div>\n",
       "<style scoped>\n",
       "    .dataframe tbody tr th:only-of-type {\n",
       "        vertical-align: middle;\n",
       "    }\n",
       "\n",
       "    .dataframe tbody tr th {\n",
       "        vertical-align: top;\n",
       "    }\n",
       "\n",
       "    .dataframe thead th {\n",
       "        text-align: right;\n",
       "    }\n",
       "</style>\n",
       "<table border=\"1\" class=\"dataframe\">\n",
       "  <thead>\n",
       "    <tr style=\"text-align: right;\">\n",
       "      <th></th>\n",
       "      <th>female</th>\n",
       "      <th>male</th>\n",
       "      <th>campaign</th>\n",
       "    </tr>\n",
       "  </thead>\n",
       "  <tbody>\n",
       "    <tr>\n",
       "      <th>0</th>\n",
       "      <td>0</td>\n",
       "      <td>1416</td>\n",
       "      <td>跨年</td>\n",
       "    </tr>\n",
       "    <tr>\n",
       "      <th>1</th>\n",
       "      <td>0</td>\n",
       "      <td>308</td>\n",
       "      <td>跨年</td>\n",
       "    </tr>\n",
       "    <tr>\n",
       "      <th>2</th>\n",
       "      <td>0</td>\n",
       "      <td>2072</td>\n",
       "      <td>新北耶誕城</td>\n",
       "    </tr>\n",
       "    <tr>\n",
       "      <th>3</th>\n",
       "      <td>1</td>\n",
       "      <td>989</td>\n",
       "      <td>新北耶誕城</td>\n",
       "    </tr>\n",
       "    <tr>\n",
       "      <th>4</th>\n",
       "      <td>1</td>\n",
       "      <td>431</td>\n",
       "      <td>新北耶誕城</td>\n",
       "    </tr>\n",
       "    <tr>\n",
       "      <th>...</th>\n",
       "      <td>...</td>\n",
       "      <td>...</td>\n",
       "      <td>...</td>\n",
       "    </tr>\n",
       "    <tr>\n",
       "      <th>1858</th>\n",
       "      <td>2092</td>\n",
       "      <td>1644</td>\n",
       "      <td>新北耶誕城</td>\n",
       "    </tr>\n",
       "    <tr>\n",
       "      <th>1859</th>\n",
       "      <td>2092</td>\n",
       "      <td>1358</td>\n",
       "      <td>新北耶誕城</td>\n",
       "    </tr>\n",
       "    <tr>\n",
       "      <th>1860</th>\n",
       "      <td>2103</td>\n",
       "      <td>1809</td>\n",
       "      <td>新北耶誕城</td>\n",
       "    </tr>\n",
       "    <tr>\n",
       "      <th>1861</th>\n",
       "      <td>2103</td>\n",
       "      <td>1035</td>\n",
       "      <td>新北耶誕城</td>\n",
       "    </tr>\n",
       "    <tr>\n",
       "      <th>1862</th>\n",
       "      <td>2103</td>\n",
       "      <td>1290</td>\n",
       "      <td>新北耶誕城</td>\n",
       "    </tr>\n",
       "  </tbody>\n",
       "</table>\n",
       "<p>1863 rows × 3 columns</p>\n",
       "</div>"
      ],
      "text/plain": [
       "      female  male campaign\n",
       "0          0  1416       跨年\n",
       "1          0   308       跨年\n",
       "2          0  2072    新北耶誕城\n",
       "3          1   989    新北耶誕城\n",
       "4          1   431    新北耶誕城\n",
       "...      ...   ...      ...\n",
       "1858    2092  1644    新北耶誕城\n",
       "1859    2092  1358    新北耶誕城\n",
       "1860    2103  1809    新北耶誕城\n",
       "1861    2103  1035    新北耶誕城\n",
       "1862    2103  1290    新北耶誕城\n",
       "\n",
       "[1863 rows x 3 columns]"
      ]
     },
     "execution_count": 155,
     "metadata": {},
     "output_type": "execute_result"
    }
   ],
   "source": [
    "match_lst = []\n",
    "\n",
    "for k,v_list in female_dict.items():\n",
    "    for v in v_list:\n",
    "        match_lst.append([k,v])\n",
    "\n",
    "df_match = pd.DataFrame(np.array(match_lst), columns=['female','male'])\n",
    "# add campaign (for database)\n",
    "df_match['campaign'] = df_final['Q9'].values[:1863]\n",
    "df_match"
   ]
  },
  {
   "cell_type": "code",
   "execution_count": 159,
   "metadata": {},
   "outputs": [
    {
     "data": {
      "text/html": [
       "<div>\n",
       "<style scoped>\n",
       "    .dataframe tbody tr th:only-of-type {\n",
       "        vertical-align: middle;\n",
       "    }\n",
       "\n",
       "    .dataframe tbody tr th {\n",
       "        vertical-align: top;\n",
       "    }\n",
       "\n",
       "    .dataframe thead th {\n",
       "        text-align: right;\n",
       "    }\n",
       "</style>\n",
       "<table border=\"1\" class=\"dataframe\">\n",
       "  <thead>\n",
       "    <tr style=\"text-align: right;\">\n",
       "      <th></th>\n",
       "      <th>index</th>\n",
       "      <th>matches</th>\n",
       "    </tr>\n",
       "  </thead>\n",
       "  <tbody>\n",
       "    <tr>\n",
       "      <th>0</th>\n",
       "      <td>0</td>\n",
       "      <td>[1416, 308, 2072]</td>\n",
       "    </tr>\n",
       "    <tr>\n",
       "      <th>1</th>\n",
       "      <td>1</td>\n",
       "      <td>[989, 431, 263]</td>\n",
       "    </tr>\n",
       "    <tr>\n",
       "      <th>2</th>\n",
       "      <td>4</td>\n",
       "      <td>[1356, 1483, 1412]</td>\n",
       "    </tr>\n",
       "    <tr>\n",
       "      <th>3</th>\n",
       "      <td>18</td>\n",
       "      <td>[342, 1783, 2071]</td>\n",
       "    </tr>\n",
       "    <tr>\n",
       "      <th>4</th>\n",
       "      <td>20</td>\n",
       "      <td>[1247, 1409, 653]</td>\n",
       "    </tr>\n",
       "  </tbody>\n",
       "</table>\n",
       "</div>"
      ],
      "text/plain": [
       "   index             matches\n",
       "0      0   [1416, 308, 2072]\n",
       "1      1     [989, 431, 263]\n",
       "2      4  [1356, 1483, 1412]\n",
       "3     18   [342, 1783, 2071]\n",
       "4     20   [1247, 1409, 653]"
      ]
     },
     "execution_count": 159,
     "metadata": {},
     "output_type": "execute_result"
    }
   ],
   "source": [
    "# Combine male and female dicitonary\n",
    "match_dict = female_dict.copy()\n",
    "match_dict.update(male_dict)\n",
    "\n",
    "df_output = pd.DataFrame()\n",
    "df_output['index'] = match_dict.keys()\n",
    "df_output['matches'] = match_dict.values()\n",
    "df_output.head()"
   ]
  },
  {
   "cell_type": "markdown",
   "metadata": {},
   "source": [
    "## 4.輸出格式\n",
    "- 建立信件輸出格式"
   ]
  },
  {
   "cell_type": "code",
   "execution_count": 160,
   "metadata": {},
   "outputs": [],
   "source": [
    "# Create Chinese dictionary\n",
    "\n",
    "output_col = ['name','hobbies','contact','Q9']\n",
    "output_title = ['姓名','興趣','聯絡方式','他/她想和你一起去']\n",
    "to_chinese = dict(zip(output_col,output_title))"
   ]
  },
  {
   "cell_type": "code",
   "execution_count": 168,
   "metadata": {},
   "outputs": [
    {
     "data": {
      "text/html": [
       "<div>\n",
       "<style scoped>\n",
       "    .dataframe tbody tr th:only-of-type {\n",
       "        vertical-align: middle;\n",
       "    }\n",
       "\n",
       "    .dataframe tbody tr th {\n",
       "        vertical-align: top;\n",
       "    }\n",
       "\n",
       "    .dataframe thead th {\n",
       "        text-align: right;\n",
       "    }\n",
       "</style>\n",
       "<table border=\"1\" class=\"dataframe\">\n",
       "  <thead>\n",
       "    <tr style=\"text-align: right;\">\n",
       "      <th></th>\n",
       "      <th>matches</th>\n",
       "      <th>output</th>\n",
       "    </tr>\n",
       "    <tr>\n",
       "      <th>index</th>\n",
       "      <th></th>\n",
       "      <th></th>\n",
       "    </tr>\n",
       "  </thead>\n",
       "  <tbody>\n",
       "    <tr>\n",
       "      <th>0</th>\n",
       "      <td>[1416, 308, 2072]</td>\n",
       "      <td></td>\n",
       "    </tr>\n",
       "    <tr>\n",
       "      <th>1</th>\n",
       "      <td>[989, 431, 263]</td>\n",
       "      <td></td>\n",
       "    </tr>\n",
       "    <tr>\n",
       "      <th>4</th>\n",
       "      <td>[1356, 1483, 1412]</td>\n",
       "      <td></td>\n",
       "    </tr>\n",
       "    <tr>\n",
       "      <th>18</th>\n",
       "      <td>[342, 1783, 2071]</td>\n",
       "      <td></td>\n",
       "    </tr>\n",
       "    <tr>\n",
       "      <th>20</th>\n",
       "      <td>[1247, 1409, 653]</td>\n",
       "      <td></td>\n",
       "    </tr>\n",
       "  </tbody>\n",
       "</table>\n",
       "</div>"
      ],
      "text/plain": [
       "                  matches output\n",
       "index                           \n",
       "0       [1416, 308, 2072]       \n",
       "1         [989, 431, 263]       \n",
       "4      [1356, 1483, 1412]       \n",
       "18      [342, 1783, 2071]       \n",
       "20      [1247, 1409, 653]       "
      ]
     },
     "execution_count": 168,
     "metadata": {},
     "output_type": "execute_result"
    }
   ],
   "source": [
    "# create columns for output\n",
    "df_output['output'] = ''\n",
    "df_output['matches'].apply(len).value_counts()\n",
    "\n",
    "# reset index \n",
    "df_output = df_output.set_index('index')\n",
    "df_output.head()"
   ]
  },
  {
   "cell_type": "code",
   "execution_count": 221,
   "metadata": {},
   "outputs": [],
   "source": [
    "# 修改範例資料\n",
    "df_final.loc[1548,'contact'] = 'Line : 12345678'\n",
    "\n",
    "# 建立輸出output\n",
    "for idx1,row in df_output.iterrows():\n",
    "    match_lst = row['matches']\n",
    "    # index list\n",
    "    output2 = '您好 感謝您填寫台大交流版的交友配對表單 \\r\\n此份配對才是最終結果 \\r\\n以下是您的配對 \\r\\n \\r\\n'\n",
    "    for idx2 in match_lst:\n",
    "#         print(idx1,idx2)\n",
    "        output1 = ''\n",
    "        #single idx\n",
    "        for col in output_col:\n",
    "            # col info\n",
    "            output1 += '{} : {}\\r\\n'.format(to_chinese[col],df_final.loc[idx2,col])\n",
    "            # ratio info\n",
    "        output1 += '配對相似度 : {} %\\r\\n'.format(round(total_similarity(idx1,idx2),1))\n",
    "        output2 += output1 + '\\r\\n'\n",
    "\n",
    "    df_output.loc[idx1,'output'] = output2"
   ]
  },
  {
   "cell_type": "markdown",
   "metadata": {},
   "source": [
    "### 範例信件輸出\n",
    "由於個資問題 這邊僅呈現修改過的假資料"
   ]
  },
  {
   "cell_type": "code",
   "execution_count": 224,
   "metadata": {},
   "outputs": [
    {
     "data": {
      "text/html": [
       "<div>\n",
       "<style scoped>\n",
       "    .dataframe tbody tr th:only-of-type {\n",
       "        vertical-align: middle;\n",
       "    }\n",
       "\n",
       "    .dataframe tbody tr th {\n",
       "        vertical-align: top;\n",
       "    }\n",
       "\n",
       "    .dataframe thead th {\n",
       "        text-align: right;\n",
       "    }\n",
       "</style>\n",
       "<table border=\"1\" class=\"dataframe\">\n",
       "  <thead>\n",
       "    <tr style=\"text-align: right;\">\n",
       "      <th></th>\n",
       "      <th>time</th>\n",
       "      <th>name</th>\n",
       "      <th>gender</th>\n",
       "      <th>student_id</th>\n",
       "      <th>email</th>\n",
       "      <th>hobbies</th>\n",
       "      <th>Q7</th>\n",
       "      <th>Q9</th>\n",
       "      <th>contact</th>\n",
       "      <th>comment</th>\n",
       "      <th>...</th>\n",
       "      <th>Q4_逛街逛夜市</th>\n",
       "      <th>Q5_漢堡王</th>\n",
       "      <th>Q5_肯德基</th>\n",
       "      <th>Q5_麥當勞</th>\n",
       "      <th>Q6_貓貓</th>\n",
       "      <th>Q8_歐美</th>\n",
       "      <th>1</th>\n",
       "      <th>2</th>\n",
       "      <th>3</th>\n",
       "      <th>matches</th>\n",
       "    </tr>\n",
       "  </thead>\n",
       "  <tbody>\n",
       "    <tr>\n",
       "      <th>2</th>\n",
       "      <td>2020/10/22 下午 6:00:34</td>\n",
       "      <td>張語樵</td>\n",
       "      <td>男</td>\n",
       "      <td>b05703036</td>\n",
       "      <td>b05703036@ntu.edu.tw</td>\n",
       "      <td>電影看劇旅行</td>\n",
       "      <td>Ｓ</td>\n",
       "      <td>新北耶誕城</td>\n",
       "      <td>chao_2404224</td>\n",
       "      <td>NaN</td>\n",
       "      <td>...</td>\n",
       "      <td>0</td>\n",
       "      <td>0</td>\n",
       "      <td>0</td>\n",
       "      <td>0</td>\n",
       "      <td>1</td>\n",
       "      <td>0</td>\n",
       "      <td>879</td>\n",
       "      <td>126</td>\n",
       "      <td>688</td>\n",
       "      <td>[879, 126, 688]</td>\n",
       "    </tr>\n",
       "  </tbody>\n",
       "</table>\n",
       "<p>1 rows × 31 columns</p>\n",
       "</div>"
      ],
      "text/plain": [
       "                    time name gender student_id                 email hobbies  \\\n",
       "2  2020/10/22 下午 6:00:34  張語樵      男  b05703036  b05703036@ntu.edu.tw  電影看劇旅行   \n",
       "\n",
       "  Q7     Q9       contact comment  ...  Q4_逛街逛夜市  Q5_漢堡王  Q5_肯德基  Q5_麥當勞  \\\n",
       "2  Ｓ  新北耶誕城  chao_2404224     NaN  ...         0       0       0       0   \n",
       "\n",
       "   Q6_貓貓  Q8_歐美    1    2    3          matches  \n",
       "2      1      0  879  126  688  [879, 126, 688]  \n",
       "\n",
       "[1 rows x 31 columns]"
      ]
     },
     "execution_count": 224,
     "metadata": {},
     "output_type": "execute_result"
    }
   ],
   "source": [
    "df_final[2:3]"
   ]
  },
  {
   "cell_type": "code",
   "execution_count": 223,
   "metadata": {},
   "outputs": [
    {
     "data": {
      "text/html": [
       "<div>\n",
       "<style scoped>\n",
       "    .dataframe tbody tr th:only-of-type {\n",
       "        vertical-align: middle;\n",
       "    }\n",
       "\n",
       "    .dataframe tbody tr th {\n",
       "        vertical-align: top;\n",
       "    }\n",
       "\n",
       "    .dataframe thead th {\n",
       "        text-align: right;\n",
       "    }\n",
       "</style>\n",
       "<table border=\"1\" class=\"dataframe\">\n",
       "  <thead>\n",
       "    <tr style=\"text-align: right;\">\n",
       "      <th></th>\n",
       "      <th>matches</th>\n",
       "      <th>output</th>\n",
       "    </tr>\n",
       "    <tr>\n",
       "      <th>index</th>\n",
       "      <th></th>\n",
       "      <th></th>\n",
       "    </tr>\n",
       "  </thead>\n",
       "  <tbody>\n",
       "    <tr>\n",
       "      <th>0</th>\n",
       "      <td>[1416, 308, 2072]</td>\n",
       "      <td>您好 感謝您填寫台大交流版的交友配對表單 \\r\\n此份配對才是最終結果 \\r\\n以下是您的配...</td>\n",
       "    </tr>\n",
       "    <tr>\n",
       "      <th>1</th>\n",
       "      <td>[989, 431, 263]</td>\n",
       "      <td>您好 感謝您填寫台大交流版的交友配對表單 \\r\\n此份配對才是最終結果 \\r\\n以下是您的配...</td>\n",
       "    </tr>\n",
       "    <tr>\n",
       "      <th>4</th>\n",
       "      <td>[1356, 1483, 1412]</td>\n",
       "      <td>您好 感謝您填寫台大交流版的交友配對表單 \\r\\n此份配對才是最終結果 \\r\\n以下是您的配...</td>\n",
       "    </tr>\n",
       "    <tr>\n",
       "      <th>18</th>\n",
       "      <td>[342, 1783, 2071]</td>\n",
       "      <td>您好 感謝您填寫台大交流版的交友配對表單 \\r\\n此份配對才是最終結果 \\r\\n以下是您的配...</td>\n",
       "    </tr>\n",
       "    <tr>\n",
       "      <th>20</th>\n",
       "      <td>[1247, 1409, 653]</td>\n",
       "      <td>您好 感謝您填寫台大交流版的交友配對表單 \\r\\n此份配對才是最終結果 \\r\\n以下是您的配...</td>\n",
       "    </tr>\n",
       "  </tbody>\n",
       "</table>\n",
       "</div>"
      ],
      "text/plain": [
       "                  matches                                             output\n",
       "index                                                                       \n",
       "0       [1416, 308, 2072]  您好 感謝您填寫台大交流版的交友配對表單 \\r\\n此份配對才是最終結果 \\r\\n以下是您的配...\n",
       "1         [989, 431, 263]  您好 感謝您填寫台大交流版的交友配對表單 \\r\\n此份配對才是最終結果 \\r\\n以下是您的配...\n",
       "4      [1356, 1483, 1412]  您好 感謝您填寫台大交流版的交友配對表單 \\r\\n此份配對才是最終結果 \\r\\n以下是您的配...\n",
       "18      [342, 1783, 2071]  您好 感謝您填寫台大交流版的交友配對表單 \\r\\n此份配對才是最終結果 \\r\\n以下是您的配...\n",
       "20      [1247, 1409, 653]  您好 感謝您填寫台大交流版的交友配對表單 \\r\\n此份配對才是最終結果 \\r\\n以下是您的配..."
      ]
     },
     "execution_count": 223,
     "metadata": {},
     "output_type": "execute_result"
    }
   ],
   "source": [
    "df_output.head()"
   ]
  },
  {
   "cell_type": "code",
   "execution_count": 251,
   "metadata": {},
   "outputs": [
    {
     "name": "stdout",
     "output_type": "stream",
     "text": [
      "男\n",
      "您好 感謝您填寫台大交流版的交友配對表單 \n",
      "此份配對才是最終結果 \n",
      "以下是您的配對 \n",
      " \n",
      "姓名 : 安安你好\n",
      "興趣 : 貓團動漫\n",
      "聯絡方式 : Line : 12345678\n",
      "他/她想和你一起去 : 新北耶誕城\n",
      "配對相似度 : 67.4 %\n",
      "\n",
      "\n"
     ]
    }
   ],
   "source": [
    "# sample output\n",
    "n=5\n",
    "print(df_final.loc[n,'gender'])\n",
    "print(df_output.loc[n,'output'])"
   ]
  },
  {
   "cell_type": "markdown",
   "metadata": {},
   "source": [
    "### To csv file "
   ]
  },
  {
   "cell_type": "code",
   "execution_count": 236,
   "metadata": {},
   "outputs": [],
   "source": [
    "### drop df_final['matches']  因為他是男女各對三位\n",
    "df_final_output = pd.concat([df_final.drop('matches',axis=1),df_output],axis=1)\n",
    "df_final_output.to_csv('df_final_output.csv',index=False)"
   ]
  },
  {
   "cell_type": "markdown",
   "metadata": {},
   "source": [
    "## 5.寄出信件"
   ]
  },
  {
   "cell_type": "code",
   "execution_count": 241,
   "metadata": {},
   "outputs": [],
   "source": [
    "df_final_output = pd.read_csv('df_final_output.csv')\n",
    "\n",
    "df_unmatch = df_final_output[pd.isna(df_final_output['matches'])]\n",
    "df_match = df_final_output[pd.notna(df_final_output['matches'])]\n",
    "\n",
    "# 當dataframe裡的list轉成csv檔時，csv會將其儲存成'[1,2,3]' 而不是[1,2,3]，因此利用json處理\n",
    "df_match['matches'] = df_match['matches'].apply(lambda x: json.loads(x))"
   ]
  },
  {
   "cell_type": "markdown",
   "metadata": {},
   "source": [
    "### 確認性別是否正確！！！！！"
   ]
  },
  {
   "cell_type": "code",
   "execution_count": 246,
   "metadata": {},
   "outputs": [],
   "source": [
    "for check_idx,row in df_final_output_Y.iterrows():\n",
    "    # 配對本人的性別\n",
    "    host_gender = df_final_output_Y.loc[check_idx,'gender']\n",
    "    \n",
    "    match_list = df_final_output_Y.loc[check_idx,'matches']\n",
    "    # 配對的idx\n",
    "    for idx in match_list:\n",
    "        guest_gender = df_final_output_Y.loc[idx,'gender']\n",
    "        # 若男男、女女則print值\n",
    "        if host_gender == guest_gender:\n",
    "            print('{} and {} unmatch!'.format(host_gender,guest_gender))"
   ]
  },
  {
   "cell_type": "markdown",
   "metadata": {},
   "source": [
    "### 寄信給成功配對的人"
   ]
  },
  {
   "cell_type": "code",
   "execution_count": 248,
   "metadata": {},
   "outputs": [],
   "source": [
    "## reset_index ㄖ\n",
    "df_match = df_match.reset_index()\n",
    "\n",
    "# Correct invalid Emails\n",
    "df_match.loc[770,'email'] = 'b08303028@ntu.edu.tw'\n",
    "df_match.loc[1320,'email'] = 'wd97410001@gmail.com'\n",
    "\n",
    "email_list = list(df_match['email'].values)\n",
    "\n",
    "# check invalid emails\n",
    "\n",
    "for i in range(len(email_list)):\n",
    "    if '@' not in email_list[i]:\n",
    "        print(i,email_list[i])"
   ]
  },
  {
   "cell_type": "code",
   "execution_count": 249,
   "metadata": {},
   "outputs": [],
   "source": [
    "import smtplib\n",
    "import time\n",
    "from email.mime.multipart import MIMEMultipart #email內容載體\n",
    "from email.mime.text import MIMEText #用於製作文字內文\n",
    "from email.mime.base import MIMEBase #用於承載附檔\n",
    "from email import encoders #用於附檔編碼\n",
    "import datetime\n",
    "import ssl\n",
    "\n",
    "#寄件者使用的Gmail帳戶資訊\n",
    "gmail_user = 's2404224@gmail.com'\n",
    "gmail_password = 'chao2404224'\n",
    "from_address = gmail_user\n",
    "\n",
    "#設定信件內容與收件人資訊 - loop\n",
    "to_address_list = df_match['email'].values.tolist()\n",
    "Subject = \"台大交友配對結果\"\n",
    "contents_list = df_match['output'].values.tolist()"
   ]
  },
  {
   "cell_type": "code",
   "execution_count": 527,
   "metadata": {},
   "outputs": [],
   "source": [
    "# 設定smtp伺服器並寄發信件    \n",
    "smtpserver = smtplib.SMTP_SSL(\"smtp.gmail.com\", 465)\n",
    "smtpserver.ehlo()\n",
    "smtpserver.login(gmail_user, gmail_password)\n",
    "\n",
    "\n",
    "count = 0\n",
    "for i in range(1397,1398):\n",
    "    #開始組合信件內容\n",
    "    mail = MIMEMultipart()\n",
    "    mail['From'] = from_address\n",
    "    mail['To'] = to_address_list[i]\n",
    "    mail['Subject'] = Subject\n",
    "    #將信件內文加到email中\n",
    "    contents = contents_list[i]\n",
    "    mail.attach(MIMEText(contents))     \n",
    "    count += 1\n",
    "    if check_gender(i):\n",
    "        print(count)\n",
    "        smtpserver.sendmail(from_address, to_address_list[i], mail.as_string())\n",
    "    \n",
    "\n",
    "# smtpserver.quit()\n",
    "end = time.time()\n",
    "print('cost {} seconds for sending {} email'.format(end-start,count))"
   ]
  }
 ],
 "metadata": {
  "kernelspec": {
   "display_name": "Python 3",
   "language": "python",
   "name": "python3"
  },
  "language_info": {
   "codemirror_mode": {
    "name": "ipython",
    "version": 3
   },
   "file_extension": ".py",
   "mimetype": "text/x-python",
   "name": "python",
   "nbconvert_exporter": "python",
   "pygments_lexer": "ipython3",
   "version": "3.8.5"
  }
 },
 "nbformat": 4,
 "nbformat_minor": 4
}
